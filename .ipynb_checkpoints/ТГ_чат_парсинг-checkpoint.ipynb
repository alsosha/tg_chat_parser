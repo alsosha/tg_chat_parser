{
 "cells": [
  {
   "cell_type": "code",
   "execution_count": 15,
   "id": "77d32b35-4801-415f-b05e-eaf5c94d6ac4",
   "metadata": {},
   "outputs": [],
   "source": [
    "from bs4 import BeautifulSoup as BS\n",
    "import codecs\n",
    "import docx"
   ]
  },
  {
   "cell_type": "markdown",
   "id": "8f6ecf0e-3e35-4e1f-bb41-b78407a77f65",
   "metadata": {},
   "source": [
    "### Поиск сообщений конкретного автора"
   ]
  },
  {
   "cell_type": "code",
   "execution_count": 86,
   "id": "8830f6c9-c1ed-4d6f-980f-41a228f28965",
   "metadata": {},
   "outputs": [],
   "source": [
    "def messages_finder(file_name, search_name):\n",
    "    file = codecs.open(file_name, 'r', 'utf-8')\n",
    "    html = file.read()\n",
    "\n",
    "    soup = BS(html, \"lxml\")\n",
    "\n",
    "    all_messages = soup.find_all('div', class_ = 'body')\n",
    "\n",
    "    author_messages = []\n",
    "\n",
    "    for i in range(len(all_messages)):\n",
    "        author = all_messages[i].find('div', class_ = 'from_name')\n",
    "        \n",
    "        if author != None:\n",
    "            if author.text == search_name:\n",
    "                author_messages.append(all_messages[i])\n",
    "        else:\n",
    "            n = i-1\n",
    "            author = all_messages[n].find('div', class_ = 'from_name')\n",
    "            \n",
    "            while author == None:\n",
    "                n = n-1\n",
    "                author = all_messages[n].find('div', class_ = 'from_name')\n",
    "    \n",
    "            if author.text == search_name:\n",
    "                author_messages.append(all_messages[i])\n",
    "\n",
    "    author_messages_texts = []\n",
    "\n",
    "    for message in author_messages:\n",
    "        message_text = message.find('div', class_ = 'text')\n",
    "    \n",
    "        if message_text != None:\n",
    "            author_messages_texts.append(message_text.text)\n",
    "\n",
    "    return(author_messages_texts, len(author_messages))"
   ]
  },
  {
   "cell_type": "code",
   "execution_count": 87,
   "id": "b9137cc6-461f-4c3e-99e6-b2dd5d822d58",
   "metadata": {},
   "outputs": [],
   "source": [
    "files = ['messages.html', 'messages2.html', 'messages3.html', 'messages4.html', 'messages5.html', 'messages6.html',\n",
    "         'messages7.html', 'messages8.html', 'messages9.html', 'messages10.html', 'messages11.html', 'messages12.html',\n",
    "         'messages13.html', 'messages14.html', 'messages15.html']"
   ]
  },
  {
   "cell_type": "code",
   "execution_count": 118,
   "id": "009eb2ee-7934-4b12-aa15-562a297364f8",
   "metadata": {},
   "outputs": [],
   "source": [
    "messages_texts = []\n",
    "all_messages_count = 0\n",
    "\n",
    "for file in files:\n",
    "    file_messages = messages_finder(file, '\\nИмя \\n       ')\n",
    "    messages_texts += file_messages[0]\n",
    "    \n",
    "    all_messages_count += file_messages[1]"
   ]
  },
  {
   "cell_type": "code",
   "execution_count": 82,
   "id": "f66e81db-3ae2-4bd1-a0f9-af7827ec2385",
   "metadata": {},
   "outputs": [],
   "source": [
    "document = docx.Document()\n",
    "\n",
    "for message_text in messages_texts:\n",
    "\n",
    "    document.add_paragraph(message_text)\n",
    "\n",
    "document.save('file_name.docx')"
   ]
  },
  {
   "cell_type": "markdown",
   "id": "c65e0632-d2a5-4ed6-ac88-a2f26d9c79e3",
   "metadata": {},
   "source": [
    "### Парсинг сообщений всех авторов"
   ]
  },
  {
   "cell_type": "code",
   "execution_count": 6,
   "id": "156028a5-5aa9-4671-8dc8-0d1dbb5b198b",
   "metadata": {},
   "outputs": [],
   "source": [
    "def messages_parser(file_name):\n",
    "    file = codecs.open(file_name, 'r', 'utf-8')\n",
    "    html = file.read()\n",
    "\n",
    "    soup = BS(html, \"lxml\")\n",
    "\n",
    "    all_messages = soup.find_all('div', class_ = 'text')\n",
    "\n",
    "    all_messages_texts = []\n",
    "\n",
    "    for message in all_messages:\n",
    "        all_messages_texts.append(message.text)\n",
    "\n",
    "    return(all_messages_texts)"
   ]
  },
  {
   "cell_type": "code",
   "execution_count": 7,
   "id": "4b740cc7-ab2b-47c5-965c-c0c107885fc5",
   "metadata": {},
   "outputs": [],
   "source": [
    "files = ['messages.html', 'messages2.html', 'messages3.html', 'messages4.html', 'messages5.html', 'messages6.html',\n",
    "         'messages7.html', 'messages8.html', 'messages9.html', 'messages10.html', 'messages11.html', 'messages12.html',\n",
    "         'messages13.html', 'messages14.html', 'messages15.html']"
   ]
  },
  {
   "cell_type": "code",
   "execution_count": 8,
   "id": "5c993809-bff4-41fc-8e85-f3befdbb50bb",
   "metadata": {},
   "outputs": [],
   "source": [
    "messages_texts = []"
   ]
  },
  {
   "cell_type": "code",
   "execution_count": 9,
   "id": "1b2fc0f1-ed70-4c4f-b75b-fe81b5683975",
   "metadata": {},
   "outputs": [],
   "source": [
    "for file in files:\n",
    "    file_messages = messages_parser(file)\n",
    "    messages_texts += file_messages"
   ]
  },
  {
   "cell_type": "code",
   "execution_count": 13,
   "id": "023fcc33-2cc4-4e7a-8179-e1f3b809eb3f",
   "metadata": {},
   "outputs": [],
   "source": [
    "import docx\n",
    "document = docx.Document()"
   ]
  },
  {
   "cell_type": "code",
   "execution_count": 14,
   "id": "a186c0db-8322-42d2-8385-faaa4b154e38",
   "metadata": {},
   "outputs": [],
   "source": [
    "for message_text in messages_texts:\n",
    "\n",
    "    document.add_paragraph(message_text)\n",
    "\n",
    "document.save('file_name.docx')"
   ]
  }
 ],
 "metadata": {
  "kernelspec": {
   "display_name": "Python 3 (ipykernel)",
   "language": "python",
   "name": "python3"
  },
  "language_info": {
   "codemirror_mode": {
    "name": "ipython",
    "version": 3
   },
   "file_extension": ".py",
   "mimetype": "text/x-python",
   "name": "python",
   "nbconvert_exporter": "python",
   "pygments_lexer": "ipython3",
   "version": "3.12.7"
  }
 },
 "nbformat": 4,
 "nbformat_minor": 5
}
